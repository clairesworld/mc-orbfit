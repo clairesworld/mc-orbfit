{
 "cells": [
  {
   "cell_type": "code",
   "execution_count": null,
   "metadata": {},
   "outputs": [],
   "source": [
    "%run ../tools/autoipy.py\n",
    "\n",
    "import mc_orbits as mc"
   ]
  },
  {
   "cell_type": "code",
   "execution_count": null,
   "metadata": {},
   "outputs": [],
   "source": [
    "# set initial parameters\n",
    "\n",
    "\n",
    "#### MISSION PARAMETERS ####\n",
    "\n",
    "n_epochs = 5 # number of direct imaging epochs to simulate\n",
    "s = 5 # astrometric precision in mas\n",
    "n_iter = 50 # number of planets to simulate\n",
    "cadence = 90 # observational cadence in days\n",
    "d = 10 # distance to host star in pc\n",
    "\n",
    "\n",
    "#### EMCEE PARAMETERS ####\n",
    "\n",
    "newtruths = True # generate new set of planets given n_iter\n",
    "newobvs = True # generate new set of simulated observations of these planets\n",
    "ecc_dist = 'Beta' # prior distribution for eccentricity\n",
    "ecc_dist_true = 'Beta' # true underlying distribution of eccentricity\n",
    "analytic = True # use semi-analytic method for underconstrained epochs\n",
    "nwalkers = 30 # number of walkers in emcee\n",
    "chainlength = 4e5 # number of steps in emcee\n",
    "initialize = 'ML' # use maximum likelihood estimate to initialize walkers\n",
    "\n",
    "#### RESULTS & DATA STORAGE PARAMETERS ####\n",
    "\n",
    "progress = True # show progress bar while running\n",
    "show_chainplot = True # immediately plot MC chains after finished running\n",
    "saveall=True # if True, store all chains\n",
    "stem = 'chains' # root name of results file\n",
    "direc='results/' # directory to put results in\n",
    "overwrite=False # protect against accidentally overwriting simulated data\n",
    "\n"
   ]
  },
  {
   "cell_type": "code",
   "execution_count": null,
   "metadata": {},
   "outputs": [],
   "source": [
    "# run\n",
    "\n",
    "overwrite = mc.run_iterations(n_iter, n_epochs, s, cadence, nwalkers=nwalkers, d=d, \n",
    "                              saveall=saveall, analytic=analytic, ecc_dist=ecc_dist, \n",
    "                              ecc_dist_true=ecc_dist_true, direc=direc, stem=stem, \n",
    "                              newtruths=newtruths, newobvs=newobvs, overwrite=overwrite, \n",
    "                              progress=progress, initialize=initialize, \n",
    "                              chainlength=chainlength, show_chainplot=show_chainplot)"
   ]
  }
 ],
 "metadata": {
  "kernelspec": {
   "display_name": "Python 3",
   "language": "python",
   "name": "python3"
  },
  "language_info": {
   "codemirror_mode": {
    "name": "ipython",
    "version": 3
   },
   "file_extension": ".py",
   "mimetype": "text/x-python",
   "name": "python",
   "nbconvert_exporter": "python",
   "pygments_lexer": "ipython3",
   "version": "3.6.3"
  }
 },
 "nbformat": 4,
 "nbformat_minor": 2
}
